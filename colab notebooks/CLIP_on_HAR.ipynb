{
  "nbformat": 4,
  "nbformat_minor": 0,
  "metadata": {
    "colab": {
      "provenance": [],
      "gpuType": "A100",
      "machine_shape": "hm"
    },
    "kernelspec": {
      "name": "python3",
      "display_name": "Python 3"
    },
    "language_info": {
      "name": "python"
    },
    "accelerator": "GPU"
  },
  "cells": [
    {
      "cell_type": "code",
      "source": [
        "!git clone https://github.com/devvansh1997/CLIP-on-HumanActivity-Recognition.git"
      ],
      "metadata": {
        "colab": {
          "base_uri": "https://localhost:8080/"
        },
        "id": "xP7NXnCKO76n",
        "outputId": "097bcab6-4f86-44e9-a2f8-840def491402"
      },
      "execution_count": null,
      "outputs": [
        {
          "output_type": "stream",
          "name": "stdout",
          "text": [
            "Cloning into 'CLIP-on-HumanActivity-Recognition'...\n",
            "remote: Enumerating objects: 126, done.\u001b[K\n",
            "remote: Counting objects: 100% (126/126), done.\u001b[K\n",
            "remote: Compressing objects: 100% (91/91), done.\u001b[K\n",
            "remote: Total 126 (delta 69), reused 90 (delta 33), pack-reused 0 (from 0)\u001b[K\n",
            "Receiving objects: 100% (126/126), 37.58 KiB | 4.70 MiB/s, done.\n",
            "Resolving deltas: 100% (69/69), done.\n"
          ]
        }
      ]
    },
    {
      "cell_type": "code",
      "source": [
        "!pip install -q kaggle transformers scikit-learn pyyaml matplotlib accelerate Pillow tqdm"
      ],
      "metadata": {
        "id": "mTjrISw5O_Cq"
      },
      "execution_count": null,
      "outputs": []
    },
    {
      "cell_type": "code",
      "source": [
        "from google.colab import files\n",
        "\n",
        "# This will prompt you to select a file. Choose the kaggle.json you just downloaded.\n",
        "files.upload()"
      ],
      "metadata": {
        "colab": {
          "base_uri": "https://localhost:8080/",
          "height": 107
        },
        "id": "b_hJobGSPA8j",
        "outputId": "1801aa61-adf5-46f1-e469-e038a02660fc"
      },
      "execution_count": null,
      "outputs": [
        {
          "output_type": "display_data",
          "data": {
            "text/plain": [
              "<IPython.core.display.HTML object>"
            ],
            "text/html": [
              "\n",
              "     <input type=\"file\" id=\"files-feacda0c-6224-480c-a7b3-d03fd39303c0\" name=\"files[]\" multiple disabled\n",
              "        style=\"border:none\" />\n",
              "     <output id=\"result-feacda0c-6224-480c-a7b3-d03fd39303c0\">\n",
              "      Upload widget is only available when the cell has been executed in the\n",
              "      current browser session. Please rerun this cell to enable.\n",
              "      </output>\n",
              "      <script>// Copyright 2017 Google LLC\n",
              "//\n",
              "// Licensed under the Apache License, Version 2.0 (the \"License\");\n",
              "// you may not use this file except in compliance with the License.\n",
              "// You may obtain a copy of the License at\n",
              "//\n",
              "//      http://www.apache.org/licenses/LICENSE-2.0\n",
              "//\n",
              "// Unless required by applicable law or agreed to in writing, software\n",
              "// distributed under the License is distributed on an \"AS IS\" BASIS,\n",
              "// WITHOUT WARRANTIES OR CONDITIONS OF ANY KIND, either express or implied.\n",
              "// See the License for the specific language governing permissions and\n",
              "// limitations under the License.\n",
              "\n",
              "/**\n",
              " * @fileoverview Helpers for google.colab Python module.\n",
              " */\n",
              "(function(scope) {\n",
              "function span(text, styleAttributes = {}) {\n",
              "  const element = document.createElement('span');\n",
              "  element.textContent = text;\n",
              "  for (const key of Object.keys(styleAttributes)) {\n",
              "    element.style[key] = styleAttributes[key];\n",
              "  }\n",
              "  return element;\n",
              "}\n",
              "\n",
              "// Max number of bytes which will be uploaded at a time.\n",
              "const MAX_PAYLOAD_SIZE = 100 * 1024;\n",
              "\n",
              "function _uploadFiles(inputId, outputId) {\n",
              "  const steps = uploadFilesStep(inputId, outputId);\n",
              "  const outputElement = document.getElementById(outputId);\n",
              "  // Cache steps on the outputElement to make it available for the next call\n",
              "  // to uploadFilesContinue from Python.\n",
              "  outputElement.steps = steps;\n",
              "\n",
              "  return _uploadFilesContinue(outputId);\n",
              "}\n",
              "\n",
              "// This is roughly an async generator (not supported in the browser yet),\n",
              "// where there are multiple asynchronous steps and the Python side is going\n",
              "// to poll for completion of each step.\n",
              "// This uses a Promise to block the python side on completion of each step,\n",
              "// then passes the result of the previous step as the input to the next step.\n",
              "function _uploadFilesContinue(outputId) {\n",
              "  const outputElement = document.getElementById(outputId);\n",
              "  const steps = outputElement.steps;\n",
              "\n",
              "  const next = steps.next(outputElement.lastPromiseValue);\n",
              "  return Promise.resolve(next.value.promise).then((value) => {\n",
              "    // Cache the last promise value to make it available to the next\n",
              "    // step of the generator.\n",
              "    outputElement.lastPromiseValue = value;\n",
              "    return next.value.response;\n",
              "  });\n",
              "}\n",
              "\n",
              "/**\n",
              " * Generator function which is called between each async step of the upload\n",
              " * process.\n",
              " * @param {string} inputId Element ID of the input file picker element.\n",
              " * @param {string} outputId Element ID of the output display.\n",
              " * @return {!Iterable<!Object>} Iterable of next steps.\n",
              " */\n",
              "function* uploadFilesStep(inputId, outputId) {\n",
              "  const inputElement = document.getElementById(inputId);\n",
              "  inputElement.disabled = false;\n",
              "\n",
              "  const outputElement = document.getElementById(outputId);\n",
              "  outputElement.innerHTML = '';\n",
              "\n",
              "  const pickedPromise = new Promise((resolve) => {\n",
              "    inputElement.addEventListener('change', (e) => {\n",
              "      resolve(e.target.files);\n",
              "    });\n",
              "  });\n",
              "\n",
              "  const cancel = document.createElement('button');\n",
              "  inputElement.parentElement.appendChild(cancel);\n",
              "  cancel.textContent = 'Cancel upload';\n",
              "  const cancelPromise = new Promise((resolve) => {\n",
              "    cancel.onclick = () => {\n",
              "      resolve(null);\n",
              "    };\n",
              "  });\n",
              "\n",
              "  // Wait for the user to pick the files.\n",
              "  const files = yield {\n",
              "    promise: Promise.race([pickedPromise, cancelPromise]),\n",
              "    response: {\n",
              "      action: 'starting',\n",
              "    }\n",
              "  };\n",
              "\n",
              "  cancel.remove();\n",
              "\n",
              "  // Disable the input element since further picks are not allowed.\n",
              "  inputElement.disabled = true;\n",
              "\n",
              "  if (!files) {\n",
              "    return {\n",
              "      response: {\n",
              "        action: 'complete',\n",
              "      }\n",
              "    };\n",
              "  }\n",
              "\n",
              "  for (const file of files) {\n",
              "    const li = document.createElement('li');\n",
              "    li.append(span(file.name, {fontWeight: 'bold'}));\n",
              "    li.append(span(\n",
              "        `(${file.type || 'n/a'}) - ${file.size} bytes, ` +\n",
              "        `last modified: ${\n",
              "            file.lastModifiedDate ? file.lastModifiedDate.toLocaleDateString() :\n",
              "                                    'n/a'} - `));\n",
              "    const percent = span('0% done');\n",
              "    li.appendChild(percent);\n",
              "\n",
              "    outputElement.appendChild(li);\n",
              "\n",
              "    const fileDataPromise = new Promise((resolve) => {\n",
              "      const reader = new FileReader();\n",
              "      reader.onload = (e) => {\n",
              "        resolve(e.target.result);\n",
              "      };\n",
              "      reader.readAsArrayBuffer(file);\n",
              "    });\n",
              "    // Wait for the data to be ready.\n",
              "    let fileData = yield {\n",
              "      promise: fileDataPromise,\n",
              "      response: {\n",
              "        action: 'continue',\n",
              "      }\n",
              "    };\n",
              "\n",
              "    // Use a chunked sending to avoid message size limits. See b/62115660.\n",
              "    let position = 0;\n",
              "    do {\n",
              "      const length = Math.min(fileData.byteLength - position, MAX_PAYLOAD_SIZE);\n",
              "      const chunk = new Uint8Array(fileData, position, length);\n",
              "      position += length;\n",
              "\n",
              "      const base64 = btoa(String.fromCharCode.apply(null, chunk));\n",
              "      yield {\n",
              "        response: {\n",
              "          action: 'append',\n",
              "          file: file.name,\n",
              "          data: base64,\n",
              "        },\n",
              "      };\n",
              "\n",
              "      let percentDone = fileData.byteLength === 0 ?\n",
              "          100 :\n",
              "          Math.round((position / fileData.byteLength) * 100);\n",
              "      percent.textContent = `${percentDone}% done`;\n",
              "\n",
              "    } while (position < fileData.byteLength);\n",
              "  }\n",
              "\n",
              "  // All done.\n",
              "  yield {\n",
              "    response: {\n",
              "      action: 'complete',\n",
              "    }\n",
              "  };\n",
              "}\n",
              "\n",
              "scope.google = scope.google || {};\n",
              "scope.google.colab = scope.google.colab || {};\n",
              "scope.google.colab._files = {\n",
              "  _uploadFiles,\n",
              "  _uploadFilesContinue,\n",
              "};\n",
              "})(self);\n",
              "</script> "
            ]
          },
          "metadata": {}
        },
        {
          "output_type": "stream",
          "name": "stdout",
          "text": [
            "Saving kaggle.json to kaggle.json\n"
          ]
        },
        {
          "output_type": "execute_result",
          "data": {
            "text/plain": [
              "{'kaggle.json': b'{\"username\":\"devanshhh\",\"key\":\"9562d215212d678871e766b92fb4963b\"}'}"
            ]
          },
          "metadata": {},
          "execution_count": 3
        }
      ]
    },
    {
      "cell_type": "code",
      "source": [
        "!mkdir -p ~/.kaggle\n",
        "\n",
        "# Move the uploaded kaggle.json file to the new directory\n",
        "!mv kaggle.json ~/.kaggle/\n",
        "\n",
        "# Set the file's permissions to be readable and writable only by you\n",
        "!chmod 600 ~/.kaggle/kaggle.json"
      ],
      "metadata": {
        "id": "X1J5OxwBPB4J"
      },
      "execution_count": null,
      "outputs": []
    },
    {
      "cell_type": "code",
      "source": [
        "!kaggle datasets download shashankrapolu/human-action-recognition-dataset"
      ],
      "metadata": {
        "colab": {
          "base_uri": "https://localhost:8080/"
        },
        "id": "WJqFko3vPDnp",
        "outputId": "6ec9ebe0-feb5-40dc-b29a-227422601275"
      },
      "execution_count": null,
      "outputs": [
        {
          "output_type": "stream",
          "name": "stdout",
          "text": [
            "Dataset URL: https://www.kaggle.com/datasets/shashankrapolu/human-action-recognition-dataset\n",
            "License(s): ODbL-1.0\n",
            "Downloading human-action-recognition-dataset.zip to /content\n",
            " 61% 127M/208M [00:00<00:00, 1.32GB/s]\n",
            "100% 208M/208M [00:00<00:00, 1.32GB/s]\n"
          ]
        }
      ]
    },
    {
      "cell_type": "code",
      "source": [
        "# Create a directory to store your data\n",
        "!mkdir -p /content/data/\n",
        "\n",
        "# Unzip the downloaded file into the new directory\n",
        "!unzip -q human-action-recognition-dataset.zip -d /content/data/"
      ],
      "metadata": {
        "id": "DkCFJGLOPHcR"
      },
      "execution_count": null,
      "outputs": []
    },
    {
      "cell_type": "code",
      "source": [
        "import yaml\n",
        "cfg = yaml.safe_load(open(\"/content/CLIP-on-HumanActivity-Recognition/har_clip/config.yaml\"))\n",
        "cfg[\"data\"][\"path\"] = \"/content/data/Structured/\"\n",
        "yaml.safe_dump(cfg, open(\"/content/CLIP-on-HumanActivity-Recognition/har_clip/config.yaml\",\"w\"))"
      ],
      "metadata": {
        "id": "bnvyHGOkPdsK"
      },
      "execution_count": null,
      "outputs": []
    },
    {
      "cell_type": "code",
      "source": [
        "%cd /content/CLIP-on-HumanActivity-Recognition\n",
        "!python -m har_clip.main --mode train+eval --config har_clip/config.yaml"
      ],
      "metadata": {
        "colab": {
          "base_uri": "https://localhost:8080/"
        },
        "id": "8BnZl0eBREuL",
        "outputId": "007a2e3e-a7f1-4afa-d3ea-07af01e335a9"
      },
      "execution_count": null,
      "outputs": [
        {
          "output_type": "stream",
          "name": "stdout",
          "text": [
            "/content/CLIP-on-HumanActivity-Recognition\n",
            "2025-09-16 20:31:38.177984: I tensorflow/core/util/port.cc:153] oneDNN custom operations are on. You may see slightly different numerical results due to floating-point round-off errors from different computation orders. To turn them off, set the environment variable `TF_ENABLE_ONEDNN_OPTS=0`.\n",
            "2025-09-16 20:31:38.196111: E external/local_xla/xla/stream_executor/cuda/cuda_fft.cc:467] Unable to register cuFFT factory: Attempting to register factory for plugin cuFFT when one has already been registered\n",
            "WARNING: All log messages before absl::InitializeLog() is called are written to STDERR\n",
            "E0000 00:00:1758054698.217985    1426 cuda_dnn.cc:8579] Unable to register cuDNN factory: Attempting to register factory for plugin cuDNN when one has already been registered\n",
            "E0000 00:00:1758054698.224515    1426 cuda_blas.cc:1407] Unable to register cuBLAS factory: Attempting to register factory for plugin cuBLAS when one has already been registered\n",
            "W0000 00:00:1758054698.241330    1426 computation_placer.cc:177] computation placer already registered. Please check linkage and avoid linking the same target more than once.\n",
            "W0000 00:00:1758054698.241364    1426 computation_placer.cc:177] computation placer already registered. Please check linkage and avoid linking the same target more than once.\n",
            "W0000 00:00:1758054698.241368    1426 computation_placer.cc:177] computation placer already registered. Please check linkage and avoid linking the same target more than once.\n",
            "W0000 00:00:1758054698.241370    1426 computation_placer.cc:177] computation placer already registered. Please check linkage and avoid linking the same target more than once.\n",
            "2025-09-16 20:31:38.246614: I tensorflow/core/platform/cpu_feature_guard.cc:210] This TensorFlow binary is optimized to use available CPU instructions in performance-critical operations.\n",
            "To enable the following instructions: AVX2 AVX512F AVX512_VNNI FMA, in other operations, rebuild TensorFlow with the appropriate compiler flags.\n",
            "config.json: 4.19kB [00:00, 14.5MB/s]\n",
            "pytorch_model.bin: 100% 605M/605M [00:01<00:00, 318MB/s]\n",
            "model.safetensors:   0% 0.00/605M [00:00<?, ?B/s]\n",
            "preprocessor_config.json: 100% 316/316 [00:00<00:00, 3.60MB/s]\n",
            "model.safetensors:   1% 8.39M/605M [00:00<00:21, 27.8MB/s]\n",
            "Fetching 1 files: 100% 1/1 [00:00<00:00, 16070.13it/s]\n",
            "model.safetensors:   7% 42.8M/605M [00:00<00:05, 98.6MB/s]\n",
            "tokenizer_config.json: 100% 592/592 [00:00<00:00, 3.49MB/s]\n",
            "Using a slow image processor as `use_fast` is unset and a slow processor was saved with this model. `use_fast=True` will be the default behavior in v4.52, even if the model was saved with a slow processor. This will result in minor differences in outputs. You'll still be able to use a slow processor with `use_fast=False`.\n",
            "model.safetensors:  34% 203M/605M [00:00<00:01, 379MB/s]  \n",
            "Fetching 1 files: 100% 1/1 [00:00<00:00, 8144.28it/s]\n",
            "model.safetensors: 100% 605M/605M [00:00<00:00, 650MB/s] \n",
            "vocab.json: 862kB [00:00, 32.8MB/s]\n",
            "merges.txt: 525kB [00:00, 128MB/s]\n",
            "tokenizer.json: 2.22MB [00:00, 168MB/s]\n",
            "special_tokens_map.json: 100% 389/389 [00:00<00:00, 3.63MB/s]\n",
            "Fetching 1 files: 100% 1/1 [00:00<00:00, 19418.07it/s]\n",
            "Fetching 1 files: 100% 1/1 [00:00<00:00, 22192.08it/s]\n",
            "Loading data from: /content/data/Structured/train\n",
            "Found 10710 images and prompts for the 'train' split across 15 classes.\n",
            "Fetching 1 files: 100% 1/1 [00:00<00:00, 16131.94it/s]\n",
            "Fetching 1 files: 100% 1/1 [00:00<00:00, 20164.92it/s]\n",
            "Loading data from: /content/data/Structured/test\n",
            "Found 1890 images and prompts for the 'test' split across 15 classes.\n",
            "Epoch 1: 100% 168/168 [00:16<00:00, 10.15it/s, loss=3.08]\n",
            "Epoch 2: 100% 168/168 [00:14<00:00, 11.21it/s, loss=2.36]\n",
            "Epoch 3: 100% 168/168 [00:14<00:00, 11.35it/s, loss=2.36]\n",
            "Epoch 4: 100% 168/168 [00:14<00:00, 11.71it/s, loss=2.1]\n",
            "Epoch 5: 100% 168/168 [00:14<00:00, 11.28it/s, loss=2.25]\n",
            "Epoch 6: 100% 168/168 [00:14<00:00, 11.24it/s, loss=2.82]\n",
            "Epoch 7: 100% 168/168 [00:15<00:00, 10.98it/s, loss=2.99]\n",
            "Epoch 8: 100% 168/168 [00:15<00:00, 11.12it/s, loss=2.46]\n",
            "Epoch 9: 100% 168/168 [00:15<00:00, 10.86it/s, loss=2.14]\n",
            "Epoch 10: 100% 168/168 [00:15<00:00, 11.06it/s, loss=2.14]\n",
            "Saved checkpoint to runs/clip/latest.pt\n",
            "huggingface/tokenizers: The current process just got forked, after parallelism has already been used. Disabling parallelism to avoid deadlocks...\n",
            "To disable this warning, you can either:\n",
            "\t- Avoid using `tokenizers` before the fork if possible\n",
            "\t- Explicitly set the environment variable TOKENIZERS_PARALLELISM=(true | false)\n",
            "huggingface/tokenizers: The current process just got forked, after parallelism has already been used. Disabling parallelism to avoid deadlocks...\n",
            "To disable this warning, you can either:\n",
            "\t- Avoid using `tokenizers` before the fork if possible\n",
            "\t- Explicitly set the environment variable TOKENIZERS_PARALLELISM=(true | false)\n",
            "huggingface/tokenizers: The current process just got forked, after parallelism has already been used. Disabling parallelism to avoid deadlocks...\n",
            "To disable this warning, you can either:\n",
            "\t- Avoid using `tokenizers` before the fork if possible\n",
            "\t- Explicitly set the environment variable TOKENIZERS_PARALLELISM=(true | false)\n",
            "huggingface/tokenizers: The current process just got forked, after parallelism has already been used. Disabling parallelism to avoid deadlocks...\n",
            "To disable this warning, you can either:\n",
            "\t- Avoid using `tokenizers` before the fork if possible\n",
            "\t- Explicitly set the environment variable TOKENIZERS_PARALLELISM=(true | false)\n",
            "[Eval] F1(macro): 0.8043 | Acc: 0.8021\n",
            "Saved per-class CSV -> runs/clip/per_class_metrics.csv\n",
            "Saved confusion matrix -> runs/clip/confusion_matrix.png\n"
          ]
        }
      ]
    },
    {
      "cell_type": "markdown",
      "source": [
        "## Visualization"
      ],
      "metadata": {
        "id": "-LKFZKp4NxsN"
      }
    },
    {
      "cell_type": "code",
      "source": [
        "    from google.colab import drive\n",
        "    drive.mount('/content/drive')"
      ],
      "metadata": {
        "colab": {
          "base_uri": "https://localhost:8080/"
        },
        "id": "03SGczORR2Q-",
        "outputId": "b15987e8-952e-441c-90f8-1efc7b480176"
      },
      "execution_count": null,
      "outputs": [
        {
          "output_type": "stream",
          "name": "stdout",
          "text": [
            "Mounted at /content/drive\n"
          ]
        }
      ]
    },
    {
      "cell_type": "code",
      "source": [
        "!cp -v \"/content/drive/MyDrive/CV_Sys_Class/04/latest.pt\" \"/content/CLIP-on-HumanActivity-Recognition/runs/siglip/latest.pt\""
      ],
      "metadata": {
        "colab": {
          "base_uri": "https://localhost:8080/"
        },
        "id": "Fl9oVWGvSWhh",
        "outputId": "e970f9eb-325f-4d45-c7c5-06bb1b7c4e39"
      },
      "execution_count": null,
      "outputs": [
        {
          "output_type": "stream",
          "name": "stdout",
          "text": [
            "'/content/drive/MyDrive/CV_Sys_Class/04/latest.pt' -> '/content/CLIP-on-HumanActivity-Recognition/runs/siglip/latest.pt'\n"
          ]
        }
      ]
    },
    {
      "cell_type": "code",
      "source": [
        "!python compare_viz.py \\\n",
        "  --data_root /content/data/Structured \\\n",
        "  --siglip_ckpt runs/siglip/latest.pt \\\n",
        "  --clip_ckpt runs/clip/latest.pt"
      ],
      "metadata": {
        "colab": {
          "base_uri": "https://localhost:8080/"
        },
        "id": "8HdIVveqNwqN",
        "outputId": "ae070aff-e6ad-4cf5-ae16-16c5e20c6223"
      },
      "execution_count": null,
      "outputs": [
        {
          "output_type": "stream",
          "name": "stdout",
          "text": [
            "2025-09-16 21:22:37.026439: I tensorflow/core/util/port.cc:153] oneDNN custom operations are on. You may see slightly different numerical results due to floating-point round-off errors from different computation orders. To turn them off, set the environment variable `TF_ENABLE_ONEDNN_OPTS=0`.\n",
            "2025-09-16 21:22:37.043982: E external/local_xla/xla/stream_executor/cuda/cuda_fft.cc:467] Unable to register cuFFT factory: Attempting to register factory for plugin cuFFT when one has already been registered\n",
            "WARNING: All log messages before absl::InitializeLog() is called are written to STDERR\n",
            "E0000 00:00:1758057757.065591   15921 cuda_dnn.cc:8579] Unable to register cuDNN factory: Attempting to register factory for plugin cuDNN when one has already been registered\n",
            "E0000 00:00:1758057757.072201   15921 cuda_blas.cc:1407] Unable to register cuBLAS factory: Attempting to register factory for plugin cuBLAS when one has already been registered\n",
            "W0000 00:00:1758057757.088504   15921 computation_placer.cc:177] computation placer already registered. Please check linkage and avoid linking the same target more than once.\n",
            "W0000 00:00:1758057757.088539   15921 computation_placer.cc:177] computation placer already registered. Please check linkage and avoid linking the same target more than once.\n",
            "W0000 00:00:1758057757.088542   15921 computation_placer.cc:177] computation placer already registered. Please check linkage and avoid linking the same target more than once.\n",
            "W0000 00:00:1758057757.088545   15921 computation_placer.cc:177] computation placer already registered. Please check linkage and avoid linking the same target more than once.\n",
            "2025-09-16 21:22:37.093440: I tensorflow/core/platform/cpu_feature_guard.cc:210] This TensorFlow binary is optimized to use available CPU instructions in performance-critical operations.\n",
            "To enable the following instructions: AVX2 AVX512F AVX512_VNNI FMA, in other operations, rebuild TensorFlow with the appropriate compiler flags.\n",
            "Fetching 1 files: 100% 1/1 [00:00<00:00, 15947.92it/s]\n",
            "Using a slow image processor as `use_fast` is unset and a slow processor was saved with this model. `use_fast=True` will be the default behavior in v4.52, even if the model was saved with a slow processor. This will result in minor differences in outputs. You'll still be able to use a slow processor with `use_fast=False`.\n",
            "Fetching 1 files: 100% 1/1 [00:00<00:00, 16070.13it/s]\n",
            "[SigLIP] loading checkpoint: runs/siglip/latest.pt\n",
            "Fetching 1 files: 100% 1/1 [00:00<00:00, 18315.74it/s]\n",
            "Fetching 1 files: 100% 1/1 [00:00<00:00, 10155.70it/s]\n",
            "[CLIP] loading checkpoint: runs/clip/latest.pt\n",
            "Saved comparison -> runs/compare/compare_1758057768.png\n",
            "Image: /content/data/Structured/test/dancing/Image_10898.jpg\n",
            "GT: dancing | SigLIP: dancing | CLIP: sitting\n"
          ]
        }
      ]
    }
  ]
}