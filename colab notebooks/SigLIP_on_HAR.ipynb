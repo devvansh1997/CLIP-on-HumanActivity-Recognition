{
  "nbformat": 4,
  "nbformat_minor": 0,
  "metadata": {
    "colab": {
      "provenance": [],
      "gpuType": "A100",
      "machine_shape": "hm"
    },
    "kernelspec": {
      "name": "python3",
      "display_name": "Python 3"
    },
    "language_info": {
      "name": "python"
    },
    "accelerator": "GPU"
  },
  "cells": [
    {
      "cell_type": "markdown",
      "source": [
        "## Git clone my repo to bring in the code"
      ],
      "metadata": {
        "id": "wQL2ShgFWFhs"
      }
    },
    {
      "cell_type": "code",
      "source": [
        "!git clone https://github.com/devvansh1997/CLIP-on-HumanActivity-Recognition.git"
      ],
      "metadata": {
        "colab": {
          "base_uri": "https://localhost:8080/"
        },
        "id": "nOJsP2CKU8O8",
        "outputId": "0d0e9a47-a45d-40a1-ce36-94671b754379"
      },
      "execution_count": null,
      "outputs": [
        {
          "output_type": "stream",
          "name": "stdout",
          "text": [
            "Cloning into 'CLIP-on-HumanActivity-Recognition'...\n",
            "remote: Enumerating objects: 126, done.\u001b[K\n",
            "remote: Counting objects: 100% (126/126), done.\u001b[K\n",
            "remote: Compressing objects: 100% (91/91), done.\u001b[K\n",
            "remote: Total 126 (delta 69), reused 90 (delta 33), pack-reused 0 (from 0)\u001b[K\n",
            "Receiving objects: 100% (126/126), 37.58 KiB | 4.70 MiB/s, done.\n",
            "Resolving deltas: 100% (69/69), done.\n"
          ]
        }
      ]
    },
    {
      "cell_type": "markdown",
      "source": [
        "Install dependencies"
      ],
      "metadata": {
        "id": "ae2YEOcNWzv3"
      }
    },
    {
      "cell_type": "code",
      "source": [
        "!pip install -q kaggle transformers scikit-learn pyyaml matplotlib accelerate Pillow tqdm"
      ],
      "metadata": {
        "id": "M-1p_dJNWwpm"
      },
      "execution_count": null,
      "outputs": []
    },
    {
      "cell_type": "markdown",
      "source": [
        "## Download dataset from kaggle"
      ],
      "metadata": {
        "id": "H6QKTAo6NXBg"
      }
    },
    {
      "cell_type": "code",
      "source": [
        "from google.colab import files\n",
        "\n",
        "# This will prompt you to select a file. Choose the kaggle.json you just downloaded.\n",
        "files.upload()"
      ],
      "metadata": {
        "colab": {
          "base_uri": "https://localhost:8080/",
          "height": 90
        },
        "id": "U9QxU_BeNkBx",
        "outputId": "bc0a3f96-0e98-4024-8314-719ab4578d74"
      },
      "execution_count": null,
      "outputs": [
        {
          "output_type": "display_data",
          "data": {
            "text/plain": [
              "<IPython.core.display.HTML object>"
            ],
            "text/html": [
              "\n",
              "     <input type=\"file\" id=\"files-49857c5d-eca2-41a3-966a-73403eefab83\" name=\"files[]\" multiple disabled\n",
              "        style=\"border:none\" />\n",
              "     <output id=\"result-49857c5d-eca2-41a3-966a-73403eefab83\">\n",
              "      Upload widget is only available when the cell has been executed in the\n",
              "      current browser session. Please rerun this cell to enable.\n",
              "      </output>\n",
              "      <script>// Copyright 2017 Google LLC\n",
              "//\n",
              "// Licensed under the Apache License, Version 2.0 (the \"License\");\n",
              "// you may not use this file except in compliance with the License.\n",
              "// You may obtain a copy of the License at\n",
              "//\n",
              "//      http://www.apache.org/licenses/LICENSE-2.0\n",
              "//\n",
              "// Unless required by applicable law or agreed to in writing, software\n",
              "// distributed under the License is distributed on an \"AS IS\" BASIS,\n",
              "// WITHOUT WARRANTIES OR CONDITIONS OF ANY KIND, either express or implied.\n",
              "// See the License for the specific language governing permissions and\n",
              "// limitations under the License.\n",
              "\n",
              "/**\n",
              " * @fileoverview Helpers for google.colab Python module.\n",
              " */\n",
              "(function(scope) {\n",
              "function span(text, styleAttributes = {}) {\n",
              "  const element = document.createElement('span');\n",
              "  element.textContent = text;\n",
              "  for (const key of Object.keys(styleAttributes)) {\n",
              "    element.style[key] = styleAttributes[key];\n",
              "  }\n",
              "  return element;\n",
              "}\n",
              "\n",
              "// Max number of bytes which will be uploaded at a time.\n",
              "const MAX_PAYLOAD_SIZE = 100 * 1024;\n",
              "\n",
              "function _uploadFiles(inputId, outputId) {\n",
              "  const steps = uploadFilesStep(inputId, outputId);\n",
              "  const outputElement = document.getElementById(outputId);\n",
              "  // Cache steps on the outputElement to make it available for the next call\n",
              "  // to uploadFilesContinue from Python.\n",
              "  outputElement.steps = steps;\n",
              "\n",
              "  return _uploadFilesContinue(outputId);\n",
              "}\n",
              "\n",
              "// This is roughly an async generator (not supported in the browser yet),\n",
              "// where there are multiple asynchronous steps and the Python side is going\n",
              "// to poll for completion of each step.\n",
              "// This uses a Promise to block the python side on completion of each step,\n",
              "// then passes the result of the previous step as the input to the next step.\n",
              "function _uploadFilesContinue(outputId) {\n",
              "  const outputElement = document.getElementById(outputId);\n",
              "  const steps = outputElement.steps;\n",
              "\n",
              "  const next = steps.next(outputElement.lastPromiseValue);\n",
              "  return Promise.resolve(next.value.promise).then((value) => {\n",
              "    // Cache the last promise value to make it available to the next\n",
              "    // step of the generator.\n",
              "    outputElement.lastPromiseValue = value;\n",
              "    return next.value.response;\n",
              "  });\n",
              "}\n",
              "\n",
              "/**\n",
              " * Generator function which is called between each async step of the upload\n",
              " * process.\n",
              " * @param {string} inputId Element ID of the input file picker element.\n",
              " * @param {string} outputId Element ID of the output display.\n",
              " * @return {!Iterable<!Object>} Iterable of next steps.\n",
              " */\n",
              "function* uploadFilesStep(inputId, outputId) {\n",
              "  const inputElement = document.getElementById(inputId);\n",
              "  inputElement.disabled = false;\n",
              "\n",
              "  const outputElement = document.getElementById(outputId);\n",
              "  outputElement.innerHTML = '';\n",
              "\n",
              "  const pickedPromise = new Promise((resolve) => {\n",
              "    inputElement.addEventListener('change', (e) => {\n",
              "      resolve(e.target.files);\n",
              "    });\n",
              "  });\n",
              "\n",
              "  const cancel = document.createElement('button');\n",
              "  inputElement.parentElement.appendChild(cancel);\n",
              "  cancel.textContent = 'Cancel upload';\n",
              "  const cancelPromise = new Promise((resolve) => {\n",
              "    cancel.onclick = () => {\n",
              "      resolve(null);\n",
              "    };\n",
              "  });\n",
              "\n",
              "  // Wait for the user to pick the files.\n",
              "  const files = yield {\n",
              "    promise: Promise.race([pickedPromise, cancelPromise]),\n",
              "    response: {\n",
              "      action: 'starting',\n",
              "    }\n",
              "  };\n",
              "\n",
              "  cancel.remove();\n",
              "\n",
              "  // Disable the input element since further picks are not allowed.\n",
              "  inputElement.disabled = true;\n",
              "\n",
              "  if (!files) {\n",
              "    return {\n",
              "      response: {\n",
              "        action: 'complete',\n",
              "      }\n",
              "    };\n",
              "  }\n",
              "\n",
              "  for (const file of files) {\n",
              "    const li = document.createElement('li');\n",
              "    li.append(span(file.name, {fontWeight: 'bold'}));\n",
              "    li.append(span(\n",
              "        `(${file.type || 'n/a'}) - ${file.size} bytes, ` +\n",
              "        `last modified: ${\n",
              "            file.lastModifiedDate ? file.lastModifiedDate.toLocaleDateString() :\n",
              "                                    'n/a'} - `));\n",
              "    const percent = span('0% done');\n",
              "    li.appendChild(percent);\n",
              "\n",
              "    outputElement.appendChild(li);\n",
              "\n",
              "    const fileDataPromise = new Promise((resolve) => {\n",
              "      const reader = new FileReader();\n",
              "      reader.onload = (e) => {\n",
              "        resolve(e.target.result);\n",
              "      };\n",
              "      reader.readAsArrayBuffer(file);\n",
              "    });\n",
              "    // Wait for the data to be ready.\n",
              "    let fileData = yield {\n",
              "      promise: fileDataPromise,\n",
              "      response: {\n",
              "        action: 'continue',\n",
              "      }\n",
              "    };\n",
              "\n",
              "    // Use a chunked sending to avoid message size limits. See b/62115660.\n",
              "    let position = 0;\n",
              "    do {\n",
              "      const length = Math.min(fileData.byteLength - position, MAX_PAYLOAD_SIZE);\n",
              "      const chunk = new Uint8Array(fileData, position, length);\n",
              "      position += length;\n",
              "\n",
              "      const base64 = btoa(String.fromCharCode.apply(null, chunk));\n",
              "      yield {\n",
              "        response: {\n",
              "          action: 'append',\n",
              "          file: file.name,\n",
              "          data: base64,\n",
              "        },\n",
              "      };\n",
              "\n",
              "      let percentDone = fileData.byteLength === 0 ?\n",
              "          100 :\n",
              "          Math.round((position / fileData.byteLength) * 100);\n",
              "      percent.textContent = `${percentDone}% done`;\n",
              "\n",
              "    } while (position < fileData.byteLength);\n",
              "  }\n",
              "\n",
              "  // All done.\n",
              "  yield {\n",
              "    response: {\n",
              "      action: 'complete',\n",
              "    }\n",
              "  };\n",
              "}\n",
              "\n",
              "scope.google = scope.google || {};\n",
              "scope.google.colab = scope.google.colab || {};\n",
              "scope.google.colab._files = {\n",
              "  _uploadFiles,\n",
              "  _uploadFilesContinue,\n",
              "};\n",
              "})(self);\n",
              "</script> "
            ]
          },
          "metadata": {}
        },
        {
          "output_type": "stream",
          "name": "stdout",
          "text": [
            "Saving kaggle.json to kaggle.json\n"
          ]
        },
        {
          "output_type": "execute_result",
          "data": {
            "text/plain": [
              "{'kaggle.json': b'{\"username\":\"devanshhh\",\"key\":\"9562d215212d678871e766b92fb4963b\"}'}"
            ]
          },
          "metadata": {},
          "execution_count": 3
        }
      ]
    },
    {
      "cell_type": "code",
      "execution_count": null,
      "metadata": {
        "id": "vrKL8Gk2NMEI"
      },
      "outputs": [],
      "source": [
        "!mkdir -p ~/.kaggle\n",
        "\n",
        "# Move the uploaded kaggle.json file to the new directory\n",
        "!mv kaggle.json ~/.kaggle/\n",
        "\n",
        "# Set the file's permissions to be readable and writable only by you\n",
        "!chmod 600 ~/.kaggle/kaggle.json"
      ]
    },
    {
      "cell_type": "markdown",
      "source": [
        "Download the zipped file"
      ],
      "metadata": {
        "id": "uECnoqJ8qQF7"
      }
    },
    {
      "cell_type": "code",
      "source": [
        "!kaggle datasets download shashankrapolu/human-action-recognition-dataset"
      ],
      "metadata": {
        "colab": {
          "base_uri": "https://localhost:8080/"
        },
        "id": "ik9qP8bzNso8",
        "outputId": "f72b99f3-0368-4f08-c821-5ded904cefb9"
      },
      "execution_count": null,
      "outputs": [
        {
          "output_type": "stream",
          "name": "stdout",
          "text": [
            "Dataset URL: https://www.kaggle.com/datasets/shashankrapolu/human-action-recognition-dataset\n",
            "License(s): ODbL-1.0\n",
            "Downloading human-action-recognition-dataset.zip to /content\n",
            " 62% 128M/208M [00:00<00:00, 1.34GB/s]\n",
            "100% 208M/208M [00:00<00:00, 1.34GB/s]\n"
          ]
        }
      ]
    },
    {
      "cell_type": "markdown",
      "source": [
        "Unzipping Contents"
      ],
      "metadata": {
        "id": "zA0o1bJwqW1G"
      }
    },
    {
      "cell_type": "code",
      "source": [
        "# Create a directory to store your data\n",
        "!mkdir -p /content/data/\n",
        "\n",
        "# Unzip the downloaded file into the new directory\n",
        "!unzip -q human-action-recognition-dataset.zip -d /content/data/"
      ],
      "metadata": {
        "collapsed": true,
        "id": "-gCEwU22N-Mp"
      },
      "execution_count": null,
      "outputs": []
    },
    {
      "cell_type": "markdown",
      "source": [
        "## Training Loop"
      ],
      "metadata": {
        "id": "a0QFmy_sZPz_"
      }
    },
    {
      "cell_type": "code",
      "source": [
        "import yaml, io\n",
        "cfg = yaml.safe_load(open(\"/content/CLIP-on-HumanActivity-Recognition/har_siglip/config.yaml\"))\n",
        "cfg[\"data\"][\"path\"] = \"/content/data/Structured/\"\n",
        "yaml.safe_dump(cfg, open(\"/content/CLIP-on-HumanActivity-Recognition/har_siglip/config.yaml\",\"w\"))"
      ],
      "metadata": {
        "id": "IBAhQvutnUjy"
      },
      "execution_count": null,
      "outputs": []
    },
    {
      "cell_type": "code",
      "source": [
        "%cd /content/CLIP-on-HumanActivity-Recognition\n",
        "!python -m har_siglip.main --mode train+eval --config har_siglip/config.yaml"
      ],
      "metadata": {
        "colab": {
          "base_uri": "https://localhost:8080/"
        },
        "id": "li-YWEI1pKWV",
        "outputId": "e2437199-58ad-489a-bd60-05118b9e1d86"
      },
      "execution_count": null,
      "outputs": [
        {
          "output_type": "stream",
          "name": "stdout",
          "text": [
            "/content/CLIP-on-HumanActivity-Recognition\n",
            "2025-09-16 20:10:21.210501: I tensorflow/core/util/port.cc:153] oneDNN custom operations are on. You may see slightly different numerical results due to floating-point round-off errors from different computation orders. To turn them off, set the environment variable `TF_ENABLE_ONEDNN_OPTS=0`.\n",
            "2025-09-16 20:10:21.228617: E external/local_xla/xla/stream_executor/cuda/cuda_fft.cc:467] Unable to register cuFFT factory: Attempting to register factory for plugin cuFFT when one has already been registered\n",
            "WARNING: All log messages before absl::InitializeLog() is called are written to STDERR\n",
            "E0000 00:00:1758053421.250358    2205 cuda_dnn.cc:8579] Unable to register cuDNN factory: Attempting to register factory for plugin cuDNN when one has already been registered\n",
            "E0000 00:00:1758053421.256838    2205 cuda_blas.cc:1407] Unable to register cuBLAS factory: Attempting to register factory for plugin cuBLAS when one has already been registered\n",
            "W0000 00:00:1758053421.273849    2205 computation_placer.cc:177] computation placer already registered. Please check linkage and avoid linking the same target more than once.\n",
            "W0000 00:00:1758053421.273882    2205 computation_placer.cc:177] computation placer already registered. Please check linkage and avoid linking the same target more than once.\n",
            "W0000 00:00:1758053421.273885    2205 computation_placer.cc:177] computation placer already registered. Please check linkage and avoid linking the same target more than once.\n",
            "W0000 00:00:1758053421.273888    2205 computation_placer.cc:177] computation placer already registered. Please check linkage and avoid linking the same target more than once.\n",
            "2025-09-16 20:10:21.279113: I tensorflow/core/platform/cpu_feature_guard.cc:210] This TensorFlow binary is optimized to use available CPU instructions in performance-critical operations.\n",
            "To enable the following instructions: AVX2 AVX512F AVX512_VNNI FMA, in other operations, rebuild TensorFlow with the appropriate compiler flags.\n",
            "config.json: 100% 432/432 [00:00<00:00, 3.51MB/s]\n",
            "model.safetensors: 100% 813M/813M [00:02<00:00, 334MB/s]\n",
            "preprocessor_config.json: 100% 368/368 [00:00<00:00, 3.52MB/s]\n",
            "Fetching 1 files: 100% 1/1 [00:00<00:00, 7358.43it/s]\n",
            "Using a slow image processor as `use_fast` is unset and a slow processor was saved with this model. `use_fast=True` will be the default behavior in v4.52, even if the model was saved with a slow processor. This will result in minor differences in outputs. You'll still be able to use a slow processor with `use_fast=False`.\n",
            "Fetching 1 files: 100% 1/1 [00:00<00:00, 19152.07it/s]\n",
            "tokenizer_config.json: 100% 711/711 [00:00<00:00, 7.27MB/s]\n",
            "spiece.model: 100% 798k/798k [00:00<00:00, 2.05MB/s]\n",
            "special_tokens_map.json: 100% 409/409 [00:00<00:00, 4.19MB/s]\n",
            "tokenizer.json: 2.40MB [00:00, 79.3MB/s]\n",
            "Fetching 1 files: 100% 1/1 [00:00<00:00, 8648.05it/s]\n",
            "Fetching 1 files: 100% 1/1 [00:00<00:00, 8577.31it/s]\n",
            "Loading data from: /content/data/Structured/train\n",
            "Found 10710 images and prompts for the 'train' split across 15 classes.\n",
            "Fetching 1 files: 100% 1/1 [00:00<00:00, 8577.31it/s]\n",
            "Fetching 1 files: 100% 1/1 [00:00<00:00, 9177.91it/s]\n",
            "Loading data from: /content/data/Structured/test\n",
            "Found 1890 images and prompts for the 'test' split across 15 classes.\n",
            "Epoch 1: 100% 335/335 [00:28<00:00, 11.76it/s, loss=1.31]\n",
            "Epoch 2: 100% 335/335 [00:27<00:00, 12.18it/s, loss=1.31]\n",
            "Epoch 3: 100% 335/335 [00:27<00:00, 12.14it/s, loss=1.31]\n",
            "Epoch 4: 100% 335/335 [00:27<00:00, 12.18it/s, loss=1.31]\n",
            "Epoch 5: 100% 335/335 [00:27<00:00, 12.07it/s, loss=1.31]\n",
            "Epoch 6: 100% 335/335 [00:27<00:00, 12.12it/s, loss=1.3]\n",
            "Epoch 7: 100% 335/335 [00:27<00:00, 12.38it/s, loss=1.25]\n",
            "Epoch 8: 100% 335/335 [00:27<00:00, 12.14it/s, loss=1.27]\n",
            "Epoch 9: 100% 335/335 [00:28<00:00, 11.91it/s, loss=1.25]\n",
            "Epoch 10: 100% 335/335 [00:27<00:00, 12.24it/s, loss=1.2]\n",
            "Saved checkpoint to runs/siglip/latest.pt\n",
            "[Eval] F1(macro): 0.8605 | Acc: 0.8608\n",
            "Saved per-class CSV -> runs/siglip/per_class_metrics.csv\n",
            "Saved confusion matrix -> runs/siglip/confusion_matrix.png\n"
          ]
        }
      ]
    }
  ]
}